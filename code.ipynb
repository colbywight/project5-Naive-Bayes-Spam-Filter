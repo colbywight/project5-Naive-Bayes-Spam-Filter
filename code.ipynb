{
 "cells": [
  {
   "cell_type": "code",
   "execution_count": 8,
   "metadata": {},
   "outputs": [],
   "source": [
    "import email\n",
    "import os\n",
    "import random\n",
    "import nltk\n",
    "from sklearn.metrics import precision_recall_fscore_support\n",
    "from sklearn.model_selection import train_test_split"
   ]
  },
  {
   "cell_type": "markdown",
   "metadata": {},
   "source": [
    "### Load and Label Email Objects"
   ]
  },
  {
   "cell_type": "code",
   "execution_count": 2,
   "metadata": {},
   "outputs": [],
   "source": [
    "def loadEmails(label):\n",
    "    labeledEmailObjects = []\n",
    "    for fileName in os.listdir(label):\n",
    "        file = open(f'{label}/{fileName}')\n",
    "        labeledEmailObjects.append((email.message_from_file(file), label))\n",
    "        file.close()\n",
    "    return labeledEmailObjects\n",
    "\n",
    "promotions = loadEmails('promotions')\n",
    "inbox = loadEmails('inbox')\n",
    "labeledEmailObjects = promotions + inbox\n",
    "random.shuffle(labeledEmailObjects)"
   ]
  },
  {
   "cell_type": "markdown",
   "metadata": {},
   "source": [
    "### Generate Feature Sets on Each Email Object"
   ]
  },
  {
   "cell_type": "code",
   "execution_count": 3,
   "metadata": {},
   "outputs": [],
   "source": [
    "def generateFeatures(mailObject):\n",
    "    features = {\n",
    "#         'subject': mailObject['Subject'],\n",
    "#         'from': mailObject['from'],\n",
    "        'sale': 'sale' in mailObject.as_string(),\n",
    "        'free': 'free' in mailObject.as_string(),\n",
    "#         'special': 'special' in mailObject.as_string(),\n",
    "        'save': 'save' in mailObject.as_string(),\n",
    "        'notSale': 'notSale' not in mailObject.as_string()\n",
    "    }\n",
    "    return features\n",
    "labeledFeatureSets = [(generateFeatures(email), label) for (email, label) in labeledEmailObjects]"
   ]
  },
  {
   "cell_type": "markdown",
   "metadata": {},
   "source": [
    "### Build a Classifier and randomize cross-validation"
   ]
  },
  {
   "cell_type": "code",
   "execution_count": 19,
   "metadata": {},
   "outputs": [
    {
     "name": "stdout",
     "output_type": "stream",
     "text": [
      "Average F1 for promotions for 100 trials: 0.5416975193290579\n",
      "Average Prec for promotions for 100 trials: 0.7571403318903319\n",
      "Average Rec for promotions for 100 trials: 0.45321919420448836\n",
      "Average F1 for inbox for 100 trials: 0.6904481143237645\n",
      "Average Prec for inbox for 100 trials: 0.5922568519801493\n",
      "Average Rec for inbox for 100 trials: 0.8531346431346429\n"
     ]
    }
   ],
   "source": [
    "def getScores(labeledFeatureSets):\n",
    "    # build the classifier\n",
    "    trainingSet, testingSet = train_test_split(labeledFeatureSets)\n",
    "    classifier = nltk.NaiveBayesClassifier.train(trainingSet)\n",
    "    # test the classifier\n",
    "    y_true = []\n",
    "    y_predict = []\n",
    "    for testObject in testingSet:\n",
    "        y_predict.append(classifier.classify(testObject[0]))\n",
    "        y_true.append(testObject[1])\n",
    "    return precision_recall_fscore_support(y_true, y_predict, average=None)\n",
    "\n",
    "NUM_TRIALS = 100\n",
    "INBOX_INDEX = 0\n",
    "PROMOTION_INDEX = 1\n",
    "promotionF1 = []\n",
    "promotionPrec = []\n",
    "promotionRec = []\n",
    "inboxF1 = []\n",
    "inboxPrec = []\n",
    "inboxRec = []\n",
    "for i in range(NUM_TRIALS):\n",
    "    (p, r, f, s) = getScores(labeledFeatureSets)\n",
    "    promotionF1.append(f[PROMOTION_INDEX])\n",
    "    promotionPrec.append(p[PROMOTION_INDEX])\n",
    "    promotionRec.append(r[PROMOTION_INDEX])\n",
    "    inboxF1.append(f[INBOX_INDEX])\n",
    "    inboxPrec.append(p[INBOX_INDEX])\n",
    "    inboxRec.append(r[INBOX_INDEX])\n",
    "\n",
    "def average(array):\n",
    "    theSum = 0\n",
    "    for item in array:\n",
    "        theSum += item\n",
    "    return theSum / len(array)\n",
    "\n",
    "print(f'Average F1 for promotions for {NUM_TRIALS} trials: {average(promotionF1)}')\n",
    "print(f'Average Prec for promotions for {NUM_TRIALS} trials: {average(promotionPrec)}')\n",
    "print(f'Average Rec for promotions for {NUM_TRIALS} trials: {average(promotionRec)}')\n",
    "print(f'Average F1 for inbox for {NUM_TRIALS} trials: {average(inboxF1)}')\n",
    "print(f'Average Prec for inbox for {NUM_TRIALS} trials: {average(inboxPrec)}')\n",
    "print(f'Average Rec for inbox for {NUM_TRIALS} trials: {average(inboxRec)}')\n"
   ]
  }
 ],
 "metadata": {
  "kernelspec": {
   "display_name": "Python 3",
   "language": "python",
   "name": "python3"
  },
  "language_info": {
   "codemirror_mode": {
    "name": "ipython",
    "version": 3
   },
   "file_extension": ".py",
   "mimetype": "text/x-python",
   "name": "python",
   "nbconvert_exporter": "python",
   "pygments_lexer": "ipython3",
   "version": "3.6.9"
  }
 },
 "nbformat": 4,
 "nbformat_minor": 4
}
